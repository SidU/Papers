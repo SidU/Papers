{
  "nbformat": 4,
  "nbformat_minor": 0,
  "metadata": {
    "colab": {
      "provenance": [],
      "authorship_tag": "ABX9TyOYcWBLxEUuldg5Szhfc/VB",
      "include_colab_link": true
    },
    "kernelspec": {
      "name": "python3",
      "display_name": "Python 3"
    },
    "language_info": {
      "name": "python"
    }
  },
  "cells": [
    {
      "cell_type": "markdown",
      "metadata": {
        "id": "view-in-github",
        "colab_type": "text"
      },
      "source": [
        "<a href=\"https://colab.research.google.com/github/SidU/Papers/blob/main/EmbeddingsLimits.ipynb\" target=\"_parent\"><img src=\"https://colab.research.google.com/assets/colab-badge.svg\" alt=\"Open In Colab\"/></a>"
      ]
    },
    {
      "cell_type": "markdown",
      "source": [
        "# Geometric limits of single-vector retrieval\n",
        "**Goal:** Build intuition that low embedding dimension caps how many query-dependent rankings are possible.\n",
        "Connect to **sign rank** and show practical escapes: multi-vector, hybrid, rerankers.\n",
        "\n",
        "Based on [this paper from Deepmind](https://arxiv.org/pdf/2508.21038)\n",
        "\n"
      ],
      "metadata": {
        "id": "2zvvfdMHJhts"
      }
    },
    {
      "cell_type": "code",
      "source": [
        "import numpy as np\n",
        "import matplotlib.pyplot as plt\n",
        "\n",
        "np.set_printoptions(suppress=True, linewidth=120)\n",
        "rng = np.random.default_rng(0)"
      ],
      "metadata": {
        "id": "uwYyxoMoJmyd"
      },
      "execution_count": 1,
      "outputs": []
    },
    {
      "cell_type": "markdown",
      "source": [
        "Docs on a line ⇒ every query induces the same order (or its reverse)."
      ],
      "metadata": {
        "id": "dhKHb-U9Jqwm"
      }
    },
    {
      "cell_type": "code",
      "source": [
        "docs_1d = np.array([[1.0],[2.0],[3.0]])  # three docs on a line\n",
        "for q in [1.0, -1.0, 0.7]:\n",
        "    scores = (docs_1d * q).ravel()\n",
        "    print(f\"q={q:>4}: order ->\", np.argsort(-scores))"
      ],
      "metadata": {
        "colab": {
          "base_uri": "https://localhost:8080/"
        },
        "id": "W_eJCypQJv28",
        "outputId": "c90c4544-3665-4e2a-c114-7d6789100d6d"
      },
      "execution_count": 2,
      "outputs": [
        {
          "output_type": "stream",
          "name": "stdout",
          "text": [
            "q= 1.0: order -> [2 1 0]\n",
            "q=-1.0: order -> [0 1 2]\n",
            "q= 0.7: order -> [2 1 0]\n"
          ]
        }
      ]
    },
    {
      "cell_type": "markdown",
      "source": [
        "Notice that since the docs are dots on a single number line, the queries which are also dots on that line can only ever get the docs in order 0, 1, 2 or 2, 1, 0."
      ],
      "metadata": {
        "id": "Z461t-sFK8VO"
      }
    },
    {
      "cell_type": "markdown",
      "source": [
        "Docs on a plane; queries are directions. Projections change orderings."
      ],
      "metadata": {
        "id": "kZ4efA1CJyaN"
      }
    },
    {
      "cell_type": "code",
      "source": [
        "P = np.array([[0.0,0.0],   # A\n",
        "              [0.5,0.4],   # B\n",
        "              [0.3,0.8]])  # C\n",
        "dirs = np.array([[1.0,0.2],[0.2,1.0],[-1.0,-0.5]])\n",
        "\n",
        "fig, ax = plt.subplots(figsize=(5,5))\n",
        "labels = [\"A\",\"B\",\"C\"]\n",
        "for (x,y),lab in zip(P,labels):\n",
        "    ax.scatter(x,y); ax.text(x+0.03,y+0.03,lab)\n",
        "for i,(u,v) in enumerate(dirs):\n",
        "    ax.arrow(0,0,u,v, head_width=0.05, length_includes_head=True)\n",
        "ax.axhline(0,color='0.8'); ax.axvline(0,color='0.8')\n",
        "ax.set_title(\"3 docs in 2D; queries = directions\"); plt.show()\n",
        "\n",
        "def ordering(P, d):\n",
        "    s = P @ d\n",
        "    return [labels[i] for i in np.argsort(-s)]\n",
        "\n",
        "for d in dirs:\n",
        "    print(\"dir\", d, \"->\", ordering(P,d))"
      ],
      "metadata": {
        "colab": {
          "base_uri": "https://localhost:8080/",
          "height": 522
        },
        "id": "Iypf8Hr2J0ej",
        "outputId": "c80ca2e5-97f5-4d8d-81dc-fad797c68244"
      },
      "execution_count": 6,
      "outputs": [
        {
          "output_type": "display_data",
          "data": {
            "text/plain": [
              "<Figure size 500x500 with 1 Axes>"
            ],
            "image/png": "[encoded data removed]"
          },
          "metadata": {}
        },
        {
          "output_type": "stream",
          "name": "stdout",
          "text": [
            "dir [1.  0.2] -> ['B', 'C', 'A']\n",
            "dir [0.2 1. ] -> ['C', 'B', 'A']\n",
            "dir [-1.  -0.5] -> ['A', 'B', 'C']\n"
          ]
        }
      ]
    },
    {
      "cell_type": "markdown",
      "source": [
        "Depending on placement, 2D can realize many permutations; sample directions."
      ],
      "metadata": {
        "id": "YWY67YFgJ3Mx"
      }
    },
    {
      "cell_type": "code",
      "source": [
        "orders = set()\n",
        "for _ in range(200):\n",
        "    d = rng.normal(size=2); d /= np.linalg.norm(d)\n",
        "    orders.add(tuple(ordering(P, d)))\n",
        "print(\"distinct permutations:\", len(orders), orders)"
      ],
      "metadata": {
        "colab": {
          "base_uri": "https://localhost:8080/"
        },
        "id": "nX8QwYw0J5tq",
        "outputId": "9da94b72-bc1a-43dd-d227-7505356257d2"
      },
      "execution_count": 7,
      "outputs": [
        {
          "output_type": "stream",
          "name": "stdout",
          "text": [
            "distinct permutations: 6 {('B', 'A', 'C'), ('A', 'C', 'B'), ('B', 'C', 'A'), ('C', 'B', 'A'), ('C', 'A', 'B'), ('A', 'B', 'C')}\n"
          ]
        }
      ]
    },
    {
      "cell_type": "markdown",
      "source": [
        "With more docs, 2D cannot realize all n! permutations. Sample to see the cap."
      ],
      "metadata": {
        "id": "5DSqGuUYJ7xb"
      }
    },
    {
      "cell_type": "code",
      "source": [
        "P4 = np.array([[0.0,0.0],[1.0,0.05],[0.15,0.95],[0.9,0.4]])  # spread out\n",
        "labels4 = [\"A\",\"B\",\"C\",\"D\"]\n",
        "\n",
        "def ordering4(P, d):\n",
        "    s = P @ d\n",
        "    return tuple(labels4[i] for i in np.argsort(-s))\n",
        "\n",
        "orders4 = set()\n",
        "for _ in range(8000):\n",
        "    d = rng.normal(size=2); d /= np.linalg.norm(d)\n",
        "    orders4.add(ordering4(P4, d))\n",
        "\n",
        "print(\"distinct permutations observed:\", len(orders4))  # << 24"
      ],
      "metadata": {
        "colab": {
          "base_uri": "https://localhost:8080/"
        },
        "id": "HoMI-_kkJ-K1",
        "outputId": "d0373f2d-aa64-45de-d9ce-5341a0767d5b"
      },
      "execution_count": 9,
      "outputs": [
        {
          "output_type": "stream",
          "name": "stdout",
          "text": [
            "distinct permutations observed: 12\n"
          ]
        }
      ]
    },
    {
      "cell_type": "markdown",
      "source": [
        "Turn “top-1” per query into +/– signs to form a sign matrix M."
      ],
      "metadata": {
        "id": "xEkR6m3bKAkM"
      }
    },
    {
      "cell_type": "code",
      "source": [
        "def sign_matrix_top1(P, dirs):\n",
        "    S = []\n",
        "    for d in dirs:\n",
        "        v = P @ d\n",
        "        m = v.max()\n",
        "        S.append([1 if x==m else -1 for x in v])\n",
        "    return np.array(S)\n",
        "\n",
        "dirs_demo = np.array([[1,0.2],[0.2,1],[-1,-0.5]])\n",
        "print(sign_matrix_top1(P, dirs_demo))  # rows=queries, cols=docs"
      ],
      "metadata": {
        "colab": {
          "base_uri": "https://localhost:8080/"
        },
        "id": "lkqfd4ozKCoy",
        "outputId": "cb769982-d5f2-4de6-fbff-02339a743080"
      },
      "execution_count": 10,
      "outputs": [
        {
          "output_type": "stream",
          "name": "stdout",
          "text": [
            "[[-1  1 -1]\n",
            " [-1 -1  1]\n",
            " [ 1 -1 -1]]\n"
          ]
        }
      ]
    },
    {
      "cell_type": "markdown",
      "source": [
        "Witness examples: show sign patterns realizable in 1D vs 2D."
      ],
      "metadata": {
        "id": "sBl_qj-5KFBJ"
      }
    },
    {
      "cell_type": "code",
      "source": [
        "# 1D witness: rows identical up to sign\n",
        "d = np.array([[ 1.0],[-1.0]])  # docs\n",
        "q = np.array([[ 1.0],[ 1.0]])  # queries\n",
        "print(\"1D sign pattern:\\n\", np.sign(q @ d.T))\n",
        "\n",
        "# 2D XOR witness\n",
        "D = np.array([[1.0,0.0],[0.0,1.0]])          # docs\n",
        "Q = np.array([[ 1.0,-1.0],[-1.0, 1.0]])      # queries\n",
        "print(\"2D XOR sign pattern:\\n\", np.sign(Q @ D.T))"
      ],
      "metadata": {
        "colab": {
          "base_uri": "https://localhost:8080/"
        },
        "id": "yIxBOWBUKHTP",
        "outputId": "ae2001fd-394a-4f56-bebd-8c5129f4cb0d"
      },
      "execution_count": 11,
      "outputs": [
        {
          "output_type": "stream",
          "name": "stdout",
          "text": [
            "1D sign pattern:\n",
            " [[ 1. -1.]\n",
            " [ 1. -1.]]\n",
            "2D XOR sign pattern:\n",
            " [[ 1. -1.]\n",
            " [-1.  1.]]\n"
          ]
        }
      ]
    },
    {
      "cell_type": "markdown",
      "source": [
        "Try to enforce 3 cyclic orderings in 1D vs 2D. 1D fails, 2D succeeds."
      ],
      "metadata": {
        "id": "F3VbfBrmKJYz"
      }
    },
    {
      "cell_type": "code",
      "source": [
        "docs = [\"d1\",\"d2\",\"d3\"]; queries = [\"q1\",\"q2\",\"q3\"]\n",
        "rankings = {\"q1\":[\"d1\",\"d2\",\"d3\"], \"q2\":[\"d2\",\"d3\",\"d1\"], \"q3\":[\"d3\",\"d1\",\"d2\"]}\n",
        "constraints = [(q,rankings[q][i],rankings[q][i+1]) for q in queries for i in range(2)]\n",
        "\n",
        "def fit(dim, steps=2500, lr=0.05, seed=0):\n",
        "    rng = np.random.default_rng(seed)\n",
        "    D = {d: rng.normal(0,0.3,dim) for d in docs}\n",
        "    Q = {q: rng.normal(0,0.3,dim) for q in queries}\n",
        "    for t in range(steps):\n",
        "        gD = {d: np.zeros(dim) for d in docs}\n",
        "        gQ = {q: np.zeros(dim) for q in queries}\n",
        "        for q,a,b in constraints:\n",
        "            diff = Q[q]@D[a] - Q[q]@D[b]\n",
        "            if diff < 0.5:  # hinge\n",
        "                gQ[q] += -(D[a]-D[b]); gD[a] += -Q[q]; gD[b] +=  Q[q]\n",
        "        for d in docs: D[d] -= lr*gD[d]\n",
        "        for q in queries: Q[q] -= lr*gQ[q]\n",
        "    v = sum((Q[q]@D[a]) < (Q[q]@D[b]) + 0.49 for q,a,b in constraints)\n",
        "    return v\n",
        "\n",
        "print(\"violations in 1D:\", fit(1, seed=1))\n",
        "print(\"violations in 2D:\", fit(2, seed=2))\n"
      ],
      "metadata": {
        "colab": {
          "base_uri": "https://localhost:8080/"
        },
        "id": "AKMfECRIKLkK",
        "outputId": "ee01e18d-1227-4b8d-b20b-4a5a77212037"
      },
      "execution_count": 12,
      "outputs": [
        {
          "output_type": "stream",
          "name": "stdout",
          "text": [
            "violations in 1D: 2\n",
            "violations in 2D: 0\n"
          ]
        }
      ]
    },
    {
      "cell_type": "markdown",
      "source": [
        "Multi-vector (late interaction) scores queries against token vectors: MaxSim.\n"
      ],
      "metadata": {
        "id": "sLomYqa5KNkR"
      }
    },
    {
      "cell_type": "code",
      "source": [
        "# toy doc: two aspects; toy query: attends to one aspect\n",
        "q = np.array([0.0, 1.0])                # cares about aspect 2\n",
        "d_single = np.array([0.6, 0.4])         # single vector averages aspects\n",
        "d_multi = np.array([[1.0, 0.0],         # token/aspect vectors\n",
        "                    [0.0, 1.0]])\n",
        "\n",
        "def dense(q, d): return float(q @ d)\n",
        "def maxsim(Q, D): return float(np.max(Q @ D.T))  # Q: (m,d), D: (n,d)\n",
        "\n",
        "print(\"single-vector score:\", dense(q, d_single))\n",
        "print(\"multi-vector MaxSim:\", maxsim(np.atleast_2d(q), d_multi))"
      ],
      "metadata": {
        "colab": {
          "base_uri": "https://localhost:8080/"
        },
        "id": "U6CHbYkmKQAg",
        "outputId": "b37d299b-406c-4d5c-a868-7cebf527535f"
      },
      "execution_count": 13,
      "outputs": [
        {
          "output_type": "stream",
          "name": "stdout",
          "text": [
            "single-vector score: 0.4\n",
            "multi-vector MaxSim: 1.0\n"
          ]
        }
      ]
    },
    {
      "cell_type": "markdown",
      "source": [
        "Combine dense (semantic) + sparse/BM25 (lexical). Score = α*dense+(1-α)*sparse."
      ],
      "metadata": {
        "id": "HPBiPamOKSNZ"
      }
    },
    {
      "cell_type": "code",
      "source": [
        "dense_scores  = np.array([0.82, 0.40, 0.10])\n",
        "sparse_scores = np.array([0.10, 0.90, 0.20])\n",
        "alpha = 0.5\n",
        "final = alpha*dense_scores + (1-alpha)*sparse_scores\n",
        "print(\"final scores:\", final, \"order ->\", np.argsort(-final))\n"
      ],
      "metadata": {
        "colab": {
          "base_uri": "https://localhost:8080/"
        },
        "id": "2m0d771oKUVF",
        "outputId": "502f271d-0bcc-4be0-9564-53d0d41e014d"
      },
      "execution_count": 14,
      "outputs": [
        {
          "output_type": "stream",
          "name": "stdout",
          "text": [
            "final scores: [0.46 0.65 0.15] order -> [1 0 2]\n"
          ]
        }
      ]
    },
    {
      "cell_type": "markdown",
      "source": [
        "Retrieve top-K, then rerank with a stronger cross-encoder (or reasoning)."
      ],
      "metadata": {
        "id": "6Oy4EKw0KWmp"
      }
    },
    {
      "cell_type": "code",
      "source": [
        "retrieved = [\"d1\",\"d2\",\"d3\"]\n",
        "bi_scores  = np.array([0.60, 0.55, 0.30])    # from retriever\n",
        "cross_scores = np.array([0.50, 0.20, 0.90])  # from reranker\n",
        "order_before = [retrieved[i] for i in np.argsort(-bi_scores)]\n",
        "order_after  = [retrieved[i] for i in np.argsort(-cross_scores)]\n",
        "print(\"before:\", order_before)\n",
        "print(\"after :\", order_after)"
      ],
      "metadata": {
        "colab": {
          "base_uri": "https://localhost:8080/"
        },
        "id": "6jR69tZKKYhD",
        "outputId": "2bbe1ccd-c125-4b1d-d20d-30c679717779"
      },
      "execution_count": 15,
      "outputs": [
        {
          "output_type": "stream",
          "name": "stdout",
          "text": [
            "before: ['d1', 'd2', 'd3']\n",
            "after : ['d3', 'd1', 'd2']\n"
          ]
        }
      ]
    },
    {
      "cell_type": "markdown",
      "source": [
        "- Single-vector retrieval has a geometric ceiling.\n",
        "- 1D ⇒ one global order; higher d ⇒ more orders, still bounded.\n",
        "- Sign rank ≈ minimum d to realize a sign pattern.\n",
        "- Use multi-vector, hybrid, and rerankers to escape the ceiling."
      ],
      "metadata": {
        "id": "kgGH42ieKbpE"
      }
    }
  ]
}